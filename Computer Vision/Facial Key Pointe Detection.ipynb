{
 "cells": [
  {
   "cell_type": "raw",
   "metadata": {},
   "source": [
    "# Restore the models from local backup\n",
    "!mkdir -p $HOME/.keras/models\n",
    "! cp /home/jovyan/work/models/* $HOME/.keras/models/\n",
    "\n",
    "!ls -ltra $HOME/.keras/models\n"
   ]
  },
  {
   "cell_type": "code",
   "execution_count": 2,
   "metadata": {},
   "outputs": [],
   "source": [
    "# Import Libraries\n",
    "%matplotlib inline\n",
    "\n",
    "import pandas as pd\n",
    "import numpy as np\n",
    "import matplotlib.pyplot as plt\n",
    "\n",
    "# Set Seed\n",
    "seed = 42\n",
    "rng = np.random.RandomState(seed)\n",
    "\n",
    "# Set path variables\n",
    "\n",
    "csvPath =\"./../../CV101/datasets/facial_keypoint_identification/\"\n",
    "imagePath=csvPath+'images/'\n",
    "dataFile='facial_keypoint_identification.csv'\n",
    "\n"
   ]
  },
  {
   "cell_type": "code",
   "execution_count": 3,
   "metadata": {},
   "outputs": [
    {
     "name": "stdout",
     "output_type": "stream",
     "text": [
      "/home/jovyan/work/AI-ML-BlackBelt-AnalyticsVidhya/Computer Vision\n",
      "facial_keypoint_identification.csv  images\n"
     ]
    }
   ],
   "source": [
    "! pwd\n",
    "! ls ./../../CV101/datasets/facial_keypoint_identification/"
   ]
  },
  {
   "cell_type": "code",
   "execution_count": 4,
   "metadata": {},
   "outputs": [
    {
     "name": "stdout",
     "output_type": "stream",
     "text": [
      "./../../CV101/datasets/facial_keypoint_identification/facial_keypoint_identification.csv\n"
     ]
    }
   ],
   "source": [
    "print(csvPath + dataFile)"
   ]
  },
  {
   "cell_type": "code",
   "execution_count": 5,
   "metadata": {},
   "outputs": [
    {
     "data": {
      "text/html": [
       "<div>\n",
       "<style scoped>\n",
       "    .dataframe tbody tr th:only-of-type {\n",
       "        vertical-align: middle;\n",
       "    }\n",
       "\n",
       "    .dataframe tbody tr th {\n",
       "        vertical-align: top;\n",
       "    }\n",
       "\n",
       "    .dataframe thead th {\n",
       "        text-align: right;\n",
       "    }\n",
       "</style>\n",
       "<table border=\"1\" class=\"dataframe\">\n",
       "  <thead>\n",
       "    <tr style=\"text-align: right;\">\n",
       "      <th></th>\n",
       "      <th>image_name</th>\n",
       "      <th>left_eye_center_x</th>\n",
       "      <th>left_eye_center_y</th>\n",
       "      <th>right_eye_center_x</th>\n",
       "      <th>right_eye_center_y</th>\n",
       "    </tr>\n",
       "  </thead>\n",
       "  <tbody>\n",
       "    <tr>\n",
       "      <th>0</th>\n",
       "      <td>0.jpg</td>\n",
       "      <td>66</td>\n",
       "      <td>39</td>\n",
       "      <td>30</td>\n",
       "      <td>36</td>\n",
       "    </tr>\n",
       "    <tr>\n",
       "      <th>1</th>\n",
       "      <td>1.jpg</td>\n",
       "      <td>64</td>\n",
       "      <td>34</td>\n",
       "      <td>29</td>\n",
       "      <td>33</td>\n",
       "    </tr>\n",
       "    <tr>\n",
       "      <th>2</th>\n",
       "      <td>2.jpg</td>\n",
       "      <td>65</td>\n",
       "      <td>34</td>\n",
       "      <td>30</td>\n",
       "      <td>34</td>\n",
       "    </tr>\n",
       "    <tr>\n",
       "      <th>3</th>\n",
       "      <td>3.jpg</td>\n",
       "      <td>65</td>\n",
       "      <td>37</td>\n",
       "      <td>32</td>\n",
       "      <td>37</td>\n",
       "    </tr>\n",
       "    <tr>\n",
       "      <th>4</th>\n",
       "      <td>4.jpg</td>\n",
       "      <td>66</td>\n",
       "      <td>39</td>\n",
       "      <td>32</td>\n",
       "      <td>38</td>\n",
       "    </tr>\n",
       "  </tbody>\n",
       "</table>\n",
       "</div>"
      ],
      "text/plain": [
       "  image_name  left_eye_center_x  left_eye_center_y  right_eye_center_x  \\\n",
       "0      0.jpg                 66                 39                  30   \n",
       "1      1.jpg                 64                 34                  29   \n",
       "2      2.jpg                 65                 34                  30   \n",
       "3      3.jpg                 65                 37                  32   \n",
       "4      4.jpg                 66                 39                  32   \n",
       "\n",
       "   right_eye_center_y  \n",
       "0                  36  \n",
       "1                  33  \n",
       "2                  34  \n",
       "3                  37  \n",
       "4                  38  "
      ]
     },
     "execution_count": 5,
     "metadata": {},
     "output_type": "execute_result"
    }
   ],
   "source": [
    "# Read the data\n",
    "data = pd.read_csv(csvPath + dataFile)\n",
    "data.head()\n"
   ]
  },
  {
   "cell_type": "code",
   "execution_count": 11,
   "metadata": {},
   "outputs": [
    {
     "name": "stdout",
     "output_type": "stream",
     "text": [
      "The shape of the is (96, 96, 3)\n"
     ]
    },
    {
     "data": {
      "image/png": "[encoded data removed]",
      "text/plain": [
       "<Figure size 432x288 with 1 Axes>"
      ]
     },
     "metadata": {
      "needs_background": "light"
     },
     "output_type": "display_data"
    }
   ],
   "source": [
    "\n",
    "# Read random data and plot it's image\n",
    "idx = rng.choice(data.index)\n",
    "img = plt.imread(imagePath + data.image_name.iloc[idx])\n",
    "fig = plt.figure()\n",
    "plt.imshow(img)\n",
    "\n",
    "# Plot Target\n",
    "plt.scatter(data.left_eye_center_x.iloc[idx],data.left_eye_center_y.iloc[idx],marker='x',c='r')\n",
    "plt.scatter(data.right_eye_center_x.iloc[idx],data.right_eye_center_y.iloc[idx],marker='x',c='r')\n",
    "\n",
    "\n",
    "# Print the shape of image\n",
    "print('The shape of the is',img.shape)\n",
    "plt.show()\n",
    "\n"
   ]
  },
  {
   "cell_type": "code",
   "execution_count": 22,
   "metadata": {},
   "outputs": [],
   "source": [
    "# Compute mean_squared_error of the Eyes \n",
    "from sklearn.metrics import mean_squared_error\n",
    "\n",
    "error_left_x = mean_squared_error(data.left_eye_center_x.values,np.full(data.left_eye_center_x.values.shape,data.left_eye_center_x.mean()))\n",
    "error_left_y = mean_squared_error(data.left_eye_center_y.values,np.full(data.left_eye_center_y.values.shape,data.left_eye_center_y.mean()))\n",
    "\n",
    "error_right_x = mean_squared_error(data.right_eye_center_x.values,np.full(data.right_eye_center_x.values.shape,data.right_eye_center_x.mean()))\n",
    "error_right_y = mean_squared_error(data.right_eye_center_y.values,np.full(data.right_eye_center_y.values.shape,data.right_eye_center_y.mean()))\n",
    "\n",
    "\n",
    "error = ( error_left_x*error_left_x +  error_left_y*error_left_y +  error_right_x*error_right_x + \n",
    "error_right_y*error_right_y  )/4"
   ]
  },
  {
   "cell_type": "code",
   "execution_count": 23,
   "metadata": {},
   "outputs": [
    {
     "data": {
      "text/plain": [
       "104.5789947402131"
      ]
     },
     "execution_count": 23,
     "metadata": {},
     "output_type": "execute_result"
    }
   ],
   "source": [
    "error"
   ]
  },
  {
   "cell_type": "code",
   "execution_count": null,
   "metadata": {},
   "outputs": [],
   "source": []
  }
 ],
 "metadata": {
  "kernelspec": {
   "display_name": "Python 3.6",
   "language": "python",
   "name": "python36"
  },
  "language_info": {
   "codemirror_mode": {
    "name": "ipython",
    "version": 3
   },
   "file_extension": ".py",
   "mimetype": "text/x-python",
   "name": "python",
   "nbconvert_exporter": "python",
   "pygments_lexer": "ipython3",
   "version": "3.6.7"
  }
 },
 "nbformat": 4,
 "nbformat_minor": 2
}
