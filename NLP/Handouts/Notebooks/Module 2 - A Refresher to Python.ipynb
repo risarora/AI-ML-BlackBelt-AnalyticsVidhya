{
 "cells": [
  {
   "cell_type": "code",
   "execution_count": 1,
   "metadata": {
    "_cell_guid": "b1076dfc-b9ad-4769-8c92-a6c4dae69d19",
    "_uuid": "8f2839f25d086af736a60e9eeb907d3b93b6e0e5"
   },
   "outputs": [
    {
     "name": "stdout",
     "output_type": "stream",
     "text": [
      "30\n"
     ]
    }
   ],
   "source": [
    "#Variables and Operators:\n",
    "a=10\n",
    "b=20\n",
    "print(a+b)"
   ]
  },
  {
   "cell_type": "code",
   "execution_count": 2,
   "metadata": {
    "_cell_guid": "79c7e3d0-c299-4dcb-8224-4455121ee9b0",
    "_uuid": "d629ff2d2480ee46fbb7e2d37f6b5fab8052498a"
   },
   "outputs": [
    {
     "name": "stdout",
     "output_type": "stream",
     "text": [
      "datascience\n"
     ]
    }
   ],
   "source": [
    "#Variables and Operators:\n",
    "a=\"data\"\n",
    "b=\"science\"\n",
    "print(a+b)"
   ]
  },
  {
   "cell_type": "code",
   "execution_count": 3,
   "metadata": {
    "_uuid": "9dfa6b376c7a5861af75a8ecdee176b750e3da27"
   },
   "outputs": [
    {
     "name": "stdout",
     "output_type": "stream",
     "text": [
      "False\n"
     ]
    }
   ],
   "source": [
    "#Variables and Operators:\n",
    "a=10\n",
    "b=20\n",
    "print(a>=b)\n"
   ]
  },
  {
   "cell_type": "code",
   "execution_count": 4,
   "metadata": {
    "_uuid": "9dad897061fdb70d431147b42c8a10c2bd4ade41"
   },
   "outputs": [
    {
     "name": "stdout",
     "output_type": "stream",
     "text": [
      "[1, 2, 3, 4, 5, 6]\n"
     ]
    }
   ],
   "source": [
    "#Python Lists\n",
    "A=[1,2,3,4,5]\n",
    "A.append(6)\n",
    "print(A)"
   ]
  },
  {
   "cell_type": "code",
   "execution_count": 5,
   "metadata": {
    "_uuid": "6abbd8c481446936150af1ddcc76e95c95c48e6d"
   },
   "outputs": [
    {
     "name": "stdout",
     "output_type": "stream",
     "text": [
      "[1, 2, 3, 4, 5, 6, 7, 8]\n"
     ]
    }
   ],
   "source": [
    "#Python Lists\n",
    "A=[1,2,3,4,5]\n",
    "B=[6,7,8]\n",
    "A.extend(B)\n",
    "print(A)"
   ]
  },
  {
   "cell_type": "code",
   "execution_count": 6,
   "metadata": {
    "_uuid": "29ed2847b96670b5c8b4dc35bd20e42fb96bf4b8"
   },
   "outputs": [
    {
     "name": "stdout",
     "output_type": "stream",
     "text": [
      "['this', 'is', 'a', 'list', 'of', 'strings']\n"
     ]
    }
   ],
   "source": [
    "#Python Lists\n",
    "A=[\"this\",\"is\",\"a\",\"list\"]\n",
    "B=[\"of\",\"strings\"]\n",
    "C=A+B\n",
    "print(C)"
   ]
  },
  {
   "cell_type": "code",
   "execution_count": 7,
   "metadata": {
    "_uuid": "5f177790aa6074c96d8f0a8aa6b83cbb81483706"
   },
   "outputs": [
    {
     "name": "stdout",
     "output_type": "stream",
     "text": [
      "this is a list of strings\n"
     ]
    }
   ],
   "source": [
    "#Python Lists\n",
    "D=\" \".join(C)\n",
    "print(D)"
   ]
  },
  {
   "cell_type": "code",
   "execution_count": 8,
   "metadata": {
    "_uuid": "80b2332aa4562cc101776ea5f00e4563bedf2079"
   },
   "outputs": [
    {
     "name": "stdout",
     "output_type": "stream",
     "text": [
      "Newyork\n"
     ]
    }
   ],
   "source": [
    "#Python Dictionaries\n",
    "A={\n",
    "    \"name\": \"Adam\",\n",
    "    \"age\": 30,\n",
    "    \"designation\": \"Doctor\",\n",
    "    \"city\": \"Newyork\"\n",
    "}\n",
    "print(A[\"city\"])"
   ]
  },
  {
   "cell_type": "code",
   "execution_count": 9,
   "metadata": {
    "_uuid": "8ee1b03235e18fa70cec0e265cb6f518f70911d3"
   },
   "outputs": [
    {
     "data": {
      "text/plain": [
       "dict_keys(['name', 'age', 'designation', 'city'])"
      ]
     },
     "execution_count": 9,
     "metadata": {},
     "output_type": "execute_result"
    }
   ],
   "source": [
    "#Python Dictionaries\n",
    "A.keys()"
   ]
  },
  {
   "cell_type": "code",
   "execution_count": 10,
   "metadata": {
    "_uuid": "5fd32821d59140ff33629434824a0a8ea340547e"
   },
   "outputs": [
    {
     "data": {
      "text/plain": [
       "dict_values(['Adam', 30, 'Doctor', 'Newyork'])"
      ]
     },
     "execution_count": 10,
     "metadata": {},
     "output_type": "execute_result"
    }
   ],
   "source": [
    "#Python Dictionaries\n",
    "A.values()"
   ]
  },
  {
   "cell_type": "code",
   "execution_count": 11,
   "metadata": {
    "_uuid": "77b809b47ca2d2e0057a037042834e4f95ec0039"
   },
   "outputs": [
    {
     "name": "stdout",
     "output_type": "stream",
     "text": [
      "A is greater\n"
     ]
    }
   ],
   "source": [
    "#Conditional Statements\n",
    "A=10\n",
    "B=15\n",
    "if (A<B):\n",
    "    print (\"A is greater\")"
   ]
  },
  {
   "cell_type": "code",
   "execution_count": 12,
   "metadata": {
    "_uuid": "642571e497e4d7947d788d4288ac1b39e71c6ba0"
   },
   "outputs": [
    {
     "name": "stdout",
     "output_type": "stream",
     "text": [
      "Not present\n"
     ]
    }
   ],
   "source": [
    "#Conditional Statements\n",
    "A={\"name\":\"Adam\",\"age\":30}\n",
    "if (\"salary\" in A):\n",
    "   print(\"Present\")\n",
    "else:\n",
    "   print(\"Not present\")"
   ]
  },
  {
   "cell_type": "code",
   "execution_count": 13,
   "metadata": {
    "_uuid": "78537c4b28b3d1547255307766d6dda47ecdcff1"
   },
   "outputs": [
    {
     "name": "stdout",
     "output_type": "stream",
     "text": [
      "Adult\n"
     ]
    }
   ],
   "source": [
    "#Conditional Statements\n",
    "if (A[\"age\"]>65):\n",
    "   print(\"Senior Cetizen\")\n",
    "elif (A[\"age\"]>=18) and (A[\"age\"]<65):\n",
    "   print(\"Adult\")\n",
    "else:\n",
    "   print(\"Children\")"
   ]
  },
  {
   "cell_type": "code",
   "execution_count": 14,
   "metadata": {
    "_uuid": "ed76ba7b1e8f9e4f2bb730c419c764d0994d8321"
   },
   "outputs": [
    {
     "name": "stdout",
     "output_type": "stream",
     "text": [
      "name Adam\n",
      "age 30\n",
      "designation Doctor\n",
      "city Newyork\n"
     ]
    }
   ],
   "source": [
    "# Loops\n",
    "A={\n",
    "    \"name\": \"Adam\",\n",
    "    \"age\": 30,\n",
    "    \"designation\": \"Doctor\",\n",
    "    \"city\": \"Newyork\"\n",
    "}\n",
    "for key, value in A.items():\n",
    "    print(key,value)\n"
   ]
  },
  {
   "cell_type": "code",
   "execution_count": 15,
   "metadata": {
    "_uuid": "cb79053cdc7e7448b4f77e6e0fa31d5c80c75ab7"
   },
   "outputs": [
    {
     "name": "stdout",
     "output_type": "stream",
     "text": [
      "0 5\n",
      "1 10\n",
      "2 15\n",
      "3 20\n",
      "4 25\n"
     ]
    }
   ],
   "source": [
    "# Loops\n",
    "A=[5,10,15,20,25]\n",
    "for i,value in enumerate(A):\n",
    "    print(i,value)\n"
   ]
  },
  {
   "cell_type": "code",
   "execution_count": 16,
   "metadata": {
    "_uuid": "552b6997d44ed11c605baab14fbd085f05a2e8a2"
   },
   "outputs": [
    {
     "data": {
      "text/plain": [
       "8"
      ]
     },
     "execution_count": 16,
     "metadata": {},
     "output_type": "execute_result"
    }
   ],
   "source": [
    "# Functions\n",
    "def add(a,b):\n",
    "    c=a+b\n",
    "    return c\n",
    "\n",
    "add(3,5)"
   ]
  },
  {
   "cell_type": "code",
   "execution_count": 17,
   "metadata": {
    "_uuid": "7b15ca2c8c3cf958067b89849d972c00976d0c0c"
   },
   "outputs": [
    {
     "data": {
      "text/plain": [
       "'datascience'"
      ]
     },
     "execution_count": 17,
     "metadata": {},
     "output_type": "execute_result"
    }
   ],
   "source": [
    "# Functions\n",
    "add(\"data\",\"science\")"
   ]
  },
  {
   "cell_type": "code",
   "execution_count": 18,
   "metadata": {
    "_uuid": "0118435926ff03566e2cac96df38764749ad7f34"
   },
   "outputs": [
    {
     "name": "stdout",
     "output_type": "stream",
     "text": [
      "['label', 'text']\n",
      "['ham', 'Go until jurong point, crazy.. Available only in bugis n great world la e buffet... Cine there got amore wat...']\n",
      "['ham', 'Ok lar... Joking wif u oni...']\n",
      "['spam', \"Free entry in 2 a wkly comp to win FA Cup final tkts 21st May 2005. Text FA to 87121 to receive entry question(std txt rate)T&C's apply 08452810075over18's\"]\n",
      "['ham', 'U dun say so early hor... U c already then say...']\n",
      "['ham', \"Nah I don't think he goes to usf, he lives around here though\"]\n"
     ]
    }
   ],
   "source": [
    "data = open(\"dataset.csv\").read()\n",
    "\n",
    "lines = data.split(\"\\n\")\n",
    "\n",
    "\n",
    "\n",
    "\n",
    "import csv\n",
    "\n",
    "with open(\"dataset.csv\") as csv_file:\n",
    "    csv_reader = csv.reader(csv_file)\n",
    "    for row in csv_reader:\n",
    "        print(row)"
   ]
  }
 ],
 "metadata": {
  "kernelspec": {
   "display_name": "Python 3",
   "language": "python",
   "name": "python3"
  },
  "language_info": {
   "codemirror_mode": {
    "name": "ipython",
    "version": 3
   },
   "file_extension": ".py",
   "mimetype": "text/x-python",
   "name": "python",
   "nbconvert_exporter": "python",
   "pygments_lexer": "ipython3",
   "version": "3.6.3"
  }
 },
 "nbformat": 4,
 "nbformat_minor": 1
}
