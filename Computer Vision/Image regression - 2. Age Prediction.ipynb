{
 "cells": [
  {
   "cell_type": "raw",
   "metadata": {},
   "source": [
    "# Restore the models from local backup\n",
    "!mkdir -p $HOME/.keras/models\n",
    "! cp /home/jovyan/work/models/* $HOME/.keras/models/\n",
    "\n",
    "!ls -ltra $HOME/.keras/models\n"
   ]
  },
  {
   "cell_type": "code",
   "execution_count": 1,
   "metadata": {},
   "outputs": [],
   "source": [
    "# Import Libraries\n",
    "%matplotlib inline\n",
    "\n",
    "import pandas as pd\n",
    "import numpy as np\n",
    "import matplotlib.pyplot as plt\n",
    "\n",
    "# Set Seed\n",
    "seed = 42\n",
    "rng = np.random.RandomState(seed)\n",
    "\n",
    "# Set path variables\n",
    "\n",
    "csvPath =\"./../../CV101/datasets/facial_keypoint_identification/\"\n",
    "imagePath=csvPath+'images/'\n",
    "dataFile='facial_keypoint_identification.csv'\n",
    "\n"
   ]
  },
  {
   "cell_type": "code",
   "execution_count": 2,
   "metadata": {},
   "outputs": [
    {
     "name": "stdout",
     "output_type": "stream",
     "text": [
      "/home/jovyan/work/AI-ML-BlackBelt-AnalyticsVidhya/Computer Vision\n",
      "facial_keypoint_identification.csv  images\n"
     ]
    }
   ],
   "source": [
    "! pwd\n",
    "! ls ./../../CV101/datasets/facial_keypoint_identification/"
   ]
  },
  {
   "cell_type": "code",
   "execution_count": 3,
   "metadata": {},
   "outputs": [
    {
     "name": "stdout",
     "output_type": "stream",
     "text": [
      "./../../CV101/datasets/facial_keypoint_identification/facial_keypoint_identification.csv\n"
     ]
    }
   ],
   "source": [
    "print(csvPath + dataFile)"
   ]
  },
  {
   "cell_type": "code",
   "execution_count": 69,
   "metadata": {},
   "outputs": [
    {
     "data": {
      "text/html": [
       "<div>\n",
       "<style scoped>\n",
       "    .dataframe tbody tr th:only-of-type {\n",
       "        vertical-align: middle;\n",
       "    }\n",
       "\n",
       "    .dataframe tbody tr th {\n",
       "        vertical-align: top;\n",
       "    }\n",
       "\n",
       "    .dataframe thead th {\n",
       "        text-align: right;\n",
       "    }\n",
       "</style>\n",
       "<table border=\"1\" class=\"dataframe\">\n",
       "  <thead>\n",
       "    <tr style=\"text-align: right;\">\n",
       "      <th></th>\n",
       "      <th>image_name</th>\n",
       "      <th>left_eye_center_x</th>\n",
       "      <th>left_eye_center_y</th>\n",
       "      <th>right_eye_center_x</th>\n",
       "      <th>right_eye_center_y</th>\n",
       "    </tr>\n",
       "  </thead>\n",
       "  <tbody>\n",
       "    <tr>\n",
       "      <th>0</th>\n",
       "      <td>0.jpg</td>\n",
       "      <td>66</td>\n",
       "      <td>39</td>\n",
       "      <td>30</td>\n",
       "      <td>36</td>\n",
       "    </tr>\n",
       "    <tr>\n",
       "      <th>1</th>\n",
       "      <td>1.jpg</td>\n",
       "      <td>64</td>\n",
       "      <td>34</td>\n",
       "      <td>29</td>\n",
       "      <td>33</td>\n",
       "    </tr>\n",
       "    <tr>\n",
       "      <th>2</th>\n",
       "      <td>2.jpg</td>\n",
       "      <td>65</td>\n",
       "      <td>34</td>\n",
       "      <td>30</td>\n",
       "      <td>34</td>\n",
       "    </tr>\n",
       "    <tr>\n",
       "      <th>3</th>\n",
       "      <td>3.jpg</td>\n",
       "      <td>65</td>\n",
       "      <td>37</td>\n",
       "      <td>32</td>\n",
       "      <td>37</td>\n",
       "    </tr>\n",
       "    <tr>\n",
       "      <th>4</th>\n",
       "      <td>4.jpg</td>\n",
       "      <td>66</td>\n",
       "      <td>39</td>\n",
       "      <td>32</td>\n",
       "      <td>38</td>\n",
       "    </tr>\n",
       "  </tbody>\n",
       "</table>\n",
       "</div>"
      ],
      "text/plain": [
       "  image_name  left_eye_center_x  left_eye_center_y  right_eye_center_x  \\\n",
       "0      0.jpg                 66                 39                  30   \n",
       "1      1.jpg                 64                 34                  29   \n",
       "2      2.jpg                 65                 34                  30   \n",
       "3      3.jpg                 65                 37                  32   \n",
       "4      4.jpg                 66                 39                  32   \n",
       "\n",
       "   right_eye_center_y  \n",
       "0                  36  \n",
       "1                  33  \n",
       "2                  34  \n",
       "3                  37  \n",
       "4                  38  "
      ]
     },
     "execution_count": 69,
     "metadata": {},
     "output_type": "execute_result"
    }
   ],
   "source": [
    "# Read the data\n",
    "data = pd.read_csv(csvPath + dataFile)\n",
    "data.head()\n"
   ]
  },
  {
   "cell_type": "code",
   "execution_count": 182,
   "metadata": {},
   "outputs": [
    {
     "name": "stdout",
     "output_type": "stream",
     "text": [
      "The shape of the is (96, 96, 3)\n"
     ]
    },
    {
     "data": {
      "image/png": "[encoded data removed]",
      "text/plain": [
       "<Figure size 432x288 with 1 Axes>"
      ]
     },
     "metadata": {
      "needs_background": "light"
     },
     "output_type": "display_data"
    }
   ],
   "source": [
    "\n",
    "# Read random data and plot it's image\n",
    "idx = rng.choice(data.index)\n",
    "img = plt.imread(imagePath + data.image_name.iloc[idx])\n",
    "fig = plt.figure()\n",
    "plt.imshow(img)\n",
    "\n",
    "# Plot Target\n",
    "plt.scatter(data.left_eye_center_x.iloc[idx],data.left_eye_center_y.iloc[idx],marker='x',c='r')\n",
    "plt.scatter(data.right_eye_center_x.iloc[idx],data.right_eye_center_y.iloc[idx],marker='x',c='r')\n",
    "\n",
    "\n",
    "# Print the shape of image\n",
    "print('The shape of the is',img.shape)\n",
    "plt.show()\n",
    "\n"
   ]
  },
  {
   "cell_type": "code",
   "execution_count": 6,
   "metadata": {},
   "outputs": [],
   "source": [
    "# Compute mean_squared_error of the Eyes \n",
    "from sklearn.metrics import mean_squared_error\n",
    "\n",
    "error_left_x = mean_squared_error(data.left_eye_center_x.values,np.full(data.left_eye_center_x.values.shape,data.left_eye_center_x.mean()))\n",
    "error_left_y = mean_squared_error(data.left_eye_center_y.values,np.full(data.left_eye_center_y.values.shape,data.left_eye_center_y.mean()))\n",
    "\n",
    "error_right_x = mean_squared_error(data.right_eye_center_x.values,np.full(data.right_eye_center_x.values.shape,data.right_eye_center_x.mean()))\n",
    "error_right_y = mean_squared_error(data.right_eye_center_y.values,np.full(data.right_eye_center_y.values.shape,data.right_eye_center_y.mean()))\n",
    "\n",
    "\n",
    "error = ( error_left_x*error_left_x +  error_left_y*error_left_y +  error_right_x*error_right_x + \n",
    "error_right_y*error_right_y  )/4"
   ]
  },
  {
   "cell_type": "code",
   "execution_count": 7,
   "metadata": {},
   "outputs": [
    {
     "data": {
      "text/plain": [
       "104.5789947402131"
      ]
     },
     "execution_count": 7,
     "metadata": {},
     "output_type": "execute_result"
    }
   ],
   "source": [
    "error"
   ]
  },
  {
   "cell_type": "code",
   "execution_count": 8,
   "metadata": {},
   "outputs": [
    {
     "data": {
      "text/plain": [
       "0.1975"
      ]
     },
     "execution_count": 8,
     "metadata": {},
     "output_type": "execute_result"
    }
   ],
   "source": [
    "\n",
    "(0.2*0.2+ 0.5*0.5+ 0.7*0.7 + 0.1*0.1)/4"
   ]
  },
  {
   "cell_type": "markdown",
   "metadata": {},
   "source": [
    "## Load and Pre process the data "
   ]
  },
  {
   "cell_type": "code",
   "execution_count": 9,
   "metadata": {},
   "outputs": [
    {
     "name": "stderr",
     "output_type": "stream",
     "text": [
      "Using TensorFlow backend.\n"
     ]
    }
   ],
   "source": [
    "from keras.preprocessing import image\n",
    "from keras.applications.vgg16 import preprocess_input\n",
    "from sklearn.model_selection import train_test_split"
   ]
  },
  {
   "cell_type": "code",
   "execution_count": 10,
   "metadata": {},
   "outputs": [
    {
     "data": {
      "text/html": [
       "<div>\n",
       "<style scoped>\n",
       "    .dataframe tbody tr th:only-of-type {\n",
       "        vertical-align: middle;\n",
       "    }\n",
       "\n",
       "    .dataframe tbody tr th {\n",
       "        vertical-align: top;\n",
       "    }\n",
       "\n",
       "    .dataframe thead th {\n",
       "        text-align: right;\n",
       "    }\n",
       "</style>\n",
       "<table border=\"1\" class=\"dataframe\">\n",
       "  <thead>\n",
       "    <tr style=\"text-align: right;\">\n",
       "      <th></th>\n",
       "      <th>image_name</th>\n",
       "      <th>left_eye_center_x</th>\n",
       "      <th>left_eye_center_y</th>\n",
       "      <th>right_eye_center_x</th>\n",
       "      <th>right_eye_center_y</th>\n",
       "    </tr>\n",
       "  </thead>\n",
       "  <tbody>\n",
       "    <tr>\n",
       "      <th>0</th>\n",
       "      <td>0.jpg</td>\n",
       "      <td>66</td>\n",
       "      <td>39</td>\n",
       "      <td>30</td>\n",
       "      <td>36</td>\n",
       "    </tr>\n",
       "    <tr>\n",
       "      <th>1</th>\n",
       "      <td>1.jpg</td>\n",
       "      <td>64</td>\n",
       "      <td>34</td>\n",
       "      <td>29</td>\n",
       "      <td>33</td>\n",
       "    </tr>\n",
       "    <tr>\n",
       "      <th>2</th>\n",
       "      <td>2.jpg</td>\n",
       "      <td>65</td>\n",
       "      <td>34</td>\n",
       "      <td>30</td>\n",
       "      <td>34</td>\n",
       "    </tr>\n",
       "    <tr>\n",
       "      <th>3</th>\n",
       "      <td>3.jpg</td>\n",
       "      <td>65</td>\n",
       "      <td>37</td>\n",
       "      <td>32</td>\n",
       "      <td>37</td>\n",
       "    </tr>\n",
       "    <tr>\n",
       "      <th>4</th>\n",
       "      <td>4.jpg</td>\n",
       "      <td>66</td>\n",
       "      <td>39</td>\n",
       "      <td>32</td>\n",
       "      <td>38</td>\n",
       "    </tr>\n",
       "  </tbody>\n",
       "</table>\n",
       "</div>"
      ],
      "text/plain": [
       "  image_name  left_eye_center_x  left_eye_center_y  right_eye_center_x  \\\n",
       "0      0.jpg                 66                 39                  30   \n",
       "1      1.jpg                 64                 34                  29   \n",
       "2      2.jpg                 65                 34                  30   \n",
       "3      3.jpg                 65                 37                  32   \n",
       "4      4.jpg                 66                 39                  32   \n",
       "\n",
       "   right_eye_center_y  \n",
       "0                  36  \n",
       "1                  33  \n",
       "2                  34  \n",
       "3                  37  \n",
       "4                  38  "
      ]
     },
     "execution_count": 10,
     "metadata": {},
     "output_type": "execute_result"
    }
   ],
   "source": [
    "data.head()"
   ]
  },
  {
   "cell_type": "code",
   "execution_count": null,
   "metadata": {},
   "outputs": [],
   "source": []
  },
  {
   "cell_type": "code",
   "execution_count": 11,
   "metadata": {},
   "outputs": [],
   "source": [
    "images = []\n",
    "for img in data.image_name:\n",
    "    img = image.load_img(imagePath+img,target_size=(224,224,3))\n",
    "    img = image.img_to_array(img)\n",
    "    images.append(img)\n",
    "images= np.array(images)"
   ]
  },
  {
   "cell_type": "code",
   "execution_count": 12,
   "metadata": {},
   "outputs": [
    {
     "data": {
      "text/plain": [
       "(7033, 224, 224, 3)"
      ]
     },
     "execution_count": 12,
     "metadata": {},
     "output_type": "execute_result"
    }
   ],
   "source": [
    "images.shape"
   ]
  },
  {
   "cell_type": "code",
   "execution_count": 13,
   "metadata": {},
   "outputs": [],
   "source": [
    "X = preprocess_input(images,mode='tf')\n"
   ]
  },
  {
   "cell_type": "code",
   "execution_count": 14,
   "metadata": {},
   "outputs": [],
   "source": [
    "y = data.iloc[:,1:].values"
   ]
  },
  {
   "cell_type": "code",
   "execution_count": 15,
   "metadata": {},
   "outputs": [],
   "source": [
    "X_train,X_valid,y_train, y_valid = train_test_split(X,y,test_size=0.3,random_state=42)"
   ]
  },
  {
   "cell_type": "code",
   "execution_count": 16,
   "metadata": {},
   "outputs": [
    {
     "name": "stdout",
     "output_type": "stream",
     "text": [
      "total 809156\r\n",
      "-rw-r--r-- 1 jovyan users  96112376 Jul 13 17:10 inception_v3_weights_tf_dim_ordering_tf_kernels.h5\r\n",
      "-rw-r--r-- 1 jovyan users       120 Jul 13 17:10 keras.json\r\n",
      "-rw-r--r-- 1 jovyan users  17225924 Jul 13 17:10 mobilenet_1_0_224_tf.h5\r\n",
      "-rw-r--r-- 1 jovyan users 102853048 Jul 13 17:10 resnet50_weights_tf_dim_ordering_tf_kernels.h5\r\n",
      "-rw-r--r-- 1 jovyan users 553467096 Jul 13 17:10 vgg16_weights_tf_dim_ordering_tf_kernels.h5\r\n",
      "drwxr-sr-x 2 jovyan users      4096 Jul 13 17:10 .\r\n",
      "-rw-r--r-- 1 jovyan users  58889256 Jul 13 17:10 vgg16_weights_tf_dim_ordering_tf_kernels_notop.h5\r\n",
      "drwxr-sr-x 3 jovyan users      4096 Jul 14 05:16 ..\r\n",
      "92M\t/home/jovyan/.keras/models/inception_v3_weights_tf_dim_ordering_tf_kernels.h5\r\n",
      "4.0K\t/home/jovyan/.keras/models/keras.json\r\n",
      "17M\t/home/jovyan/.keras/models/mobilenet_1_0_224_tf.h5\r\n",
      "99M\t/home/jovyan/.keras/models/resnet50_weights_tf_dim_ordering_tf_kernels.h5\r\n",
      "528M\t/home/jovyan/.keras/models/vgg16_weights_tf_dim_ordering_tf_kernels.h5\r\n",
      "57M\t/home/jovyan/.keras/models/vgg16_weights_tf_dim_ordering_tf_kernels_notop.h5\r\n"
     ]
    }
   ],
   "source": [
    "!ls -ltra $HOME/.keras/models ; du -hs $HOME/.keras/models/*"
   ]
  },
  {
   "cell_type": "code",
   "execution_count": 19,
   "metadata": {},
   "outputs": [
    {
     "data": {
      "text/plain": [
       "[('X', 4234653840),\n",
       " ('images', 4234653840),\n",
       " ('X_train', 2964197520),\n",
       " ('X_valid', 1270456464),\n",
       " ('data', 681195),\n",
       " ('y_train', 157648),\n",
       " ('y_valid', 67632),\n",
       " ('Adam', 1056),\n",
       " ('Dense', 1056),\n",
       " ('Dropout', 1056),\n",
       " ('EarlyStopping', 1056),\n",
       " ('InputLayer', 1056),\n",
       " ('Sequential', 1056),\n",
       " ('VGG16', 136),\n",
       " ('mean_squared_error', 136),\n",
       " ('preprocess_input', 136),\n",
       " ('train_test_split', 136),\n",
       " ('img', 128),\n",
       " ('y', 112),\n",
       " ('imagePath', 110),\n",
       " ('csvPath', 103),\n",
       " ('dataFile', 83),\n",
       " ('image', 80),\n",
       " ('np', 80),\n",
       " ('pd', 80),\n",
       " ('plt', 80),\n",
       " ('rng', 72),\n",
       " ('fig', 56),\n",
       " ('error', 32),\n",
       " ('error_left_x', 32),\n",
       " ('error_left_y', 32),\n",
       " ('error_right_x', 32),\n",
       " ('error_right_y', 32),\n",
       " ('idx', 32),\n",
       " ('seed', 28)]"
      ]
     },
     "execution_count": 19,
     "metadata": {},
     "output_type": "execute_result"
    }
   ],
   "source": [
    "import sys\n",
    "\n",
    "# These are the usual ipython objects, including this one you are creating\n",
    "ipython_vars = ['In', 'Out', 'exit', 'quit', 'get_ipython', 'ipython_vars']\n",
    "\n",
    "# Get a sorted list of the objects and their sizes\n",
    "sorted([(x, sys.getsizeof(globals().get(x))) for x in dir() if not x.startswith('_') and x not in sys.modules and x not in ipython_vars], key=lambda x: x[1], reverse=True)"
   ]
  },
  {
   "cell_type": "code",
   "execution_count": 24,
   "metadata": {},
   "outputs": [],
   "source": [
    "#del(X)\n",
    "#del(images)\n",
    "del(data)"
   ]
  },
  {
   "cell_type": "code",
   "execution_count": 25,
   "metadata": {},
   "outputs": [
    {
     "data": {
      "text/plain": [
       "[('X_train', 2964197520),\n",
       " ('X_valid', 1270456464),\n",
       " ('y_train', 157648),\n",
       " ('y_valid', 67632),\n",
       " ('Adam', 1056),\n",
       " ('Dense', 1056),\n",
       " ('Dropout', 1056),\n",
       " ('EarlyStopping', 1056),\n",
       " ('InputLayer', 1056),\n",
       " ('Sequential', 1056),\n",
       " ('VGG16', 136),\n",
       " ('mean_squared_error', 136),\n",
       " ('preprocess_input', 136),\n",
       " ('train_test_split', 136),\n",
       " ('img', 128),\n",
       " ('y', 112),\n",
       " ('imagePath', 110),\n",
       " ('csvPath', 103),\n",
       " ('dataFile', 83),\n",
       " ('image', 80),\n",
       " ('np', 80),\n",
       " ('pd', 80),\n",
       " ('plt', 80),\n",
       " ('rng', 72),\n",
       " ('fig', 56),\n",
       " ('error', 32),\n",
       " ('error_left_x', 32),\n",
       " ('error_left_y', 32),\n",
       " ('error_right_x', 32),\n",
       " ('error_right_y', 32),\n",
       " ('idx', 32),\n",
       " ('seed', 28)]"
      ]
     },
     "execution_count": 25,
     "metadata": {},
     "output_type": "execute_result"
    }
   ],
   "source": [
    "import sys\n",
    "\n",
    "# These are the usual ipython objects, including this one you are creating\n",
    "ipython_vars = ['In', 'Out', 'exit', 'quit', 'get_ipython', 'ipython_vars']\n",
    "\n",
    "# Get a sorted list of the objects and their sizes\n",
    "sorted([(x, sys.getsizeof(globals().get(x))) for x in dir() if not x.startswith('_') and x not in sys.modules and x not in ipython_vars], key=lambda x: x[1], reverse=True)"
   ]
  },
  {
   "cell_type": "code",
   "execution_count": null,
   "metadata": {},
   "outputs": [],
   "source": []
  },
  {
   "cell_type": "code",
   "execution_count": null,
   "metadata": {},
   "outputs": [],
   "source": []
  },
  {
   "cell_type": "code",
   "execution_count": 17,
   "metadata": {},
   "outputs": [],
   "source": [
    "from keras.applications.vgg16 import VGG16\n",
    "from keras.models import Sequential\n",
    "from keras.optimizers import Adam\n",
    "from keras.layers import Dense,Dropout,InputLayer\n",
    "from keras.callbacks import EarlyStopping\n"
   ]
  },
  {
   "cell_type": "code",
   "execution_count": 26,
   "metadata": {},
   "outputs": [],
   "source": [
    "base_model = VGG16(include_top=False,weights='imagenet',input_shape=(224,224,3))"
   ]
  },
  {
   "cell_type": "code",
   "execution_count": 28,
   "metadata": {},
   "outputs": [
    {
     "data": {
      "text/plain": [
       "56"
      ]
     },
     "execution_count": 28,
     "metadata": {},
     "output_type": "execute_result"
    }
   ],
   "source": [
    "sys.getsizeof(base_model)"
   ]
  },
  {
   "cell_type": "code",
   "execution_count": 29,
   "metadata": {},
   "outputs": [],
   "source": [
    "feature_train = base_model.predict(X_train)"
   ]
  },
  {
   "cell_type": "code",
   "execution_count": 30,
   "metadata": {},
   "outputs": [],
   "source": [
    "feature_valid = base_model.predict(X_valid)"
   ]
  },
  {
   "cell_type": "code",
   "execution_count": null,
   "metadata": {},
   "outputs": [],
   "source": []
  },
  {
   "cell_type": "code",
   "execution_count": 39,
   "metadata": {},
   "outputs": [],
   "source": [
    "max_value = feature_train.max()\n",
    "feature_train /= max_value\n",
    "feature_valid /= max_value"
   ]
  },
  {
   "cell_type": "code",
   "execution_count": 42,
   "metadata": {},
   "outputs": [
    {
     "data": {
      "text/plain": [
       "(4923, 25088)"
      ]
     },
     "execution_count": 42,
     "metadata": {},
     "output_type": "execute_result"
    }
   ],
   "source": [
    "feature_train.shape"
   ]
  },
  {
   "cell_type": "code",
   "execution_count": 41,
   "metadata": {},
   "outputs": [],
   "source": [
    "feature_train = feature_train.reshape(feature_train.shape[0],7*7*512)\n",
    "feature_valid = feature_valid.reshape(feature_valid.shape[0],7*7*512)"
   ]
  },
  {
   "cell_type": "code",
   "execution_count": 181,
   "metadata": {},
   "outputs": [
    {
     "data": {
      "text/plain": [
       "(4923, 25088)"
      ]
     },
     "execution_count": 181,
     "metadata": {},
     "output_type": "execute_result"
    }
   ],
   "source": [
    "feature_train.shape"
   ]
  },
  {
   "cell_type": "code",
   "execution_count": null,
   "metadata": {},
   "outputs": [],
   "source": []
  },
  {
   "cell_type": "code",
   "execution_count": 57,
   "metadata": {},
   "outputs": [
    {
     "ename": "ModuleNotFoundError",
     "evalue": "No module named 'dill'",
     "output_type": "error",
     "traceback": [
      "\u001b[0;31m---------------------------------------------------------------------------\u001b[0m",
      "\u001b[0;31mModuleNotFoundError\u001b[0m                       Traceback (most recent call last)",
      "\u001b[0;32m<ipython-input-57-edf038076cd6>\u001b[0m in \u001b[0;36m<module>\u001b[0;34m\u001b[0m\n\u001b[0;32m----> 1\u001b[0;31m \u001b[0;32mimport\u001b[0m \u001b[0mdill\u001b[0m\u001b[0;34m\u001b[0m\u001b[0;34m\u001b[0m\u001b[0m\n\u001b[0m\u001b[1;32m      2\u001b[0m \u001b[0mdill\u001b[0m\u001b[0;34m.\u001b[0m\u001b[0mdump_session\u001b[0m\u001b[0;34m(\u001b[0m\u001b[0;34m'notebook_env.db'\u001b[0m\u001b[0;34m)\u001b[0m\u001b[0;34m\u001b[0m\u001b[0;34m\u001b[0m\u001b[0m\n",
      "\u001b[0;31mModuleNotFoundError\u001b[0m: No module named 'dill'"
     ]
    }
   ],
   "source": [
    "import dill\n",
    "dill.dump_session('notebook_env.db')"
   ]
  },
  {
   "cell_type": "code",
   "execution_count": 58,
   "metadata": {},
   "outputs": [],
   "source": [
    "# Create A Neral Network\n",
    "\n",
    "model = Sequential()\n",
    "\n",
    "model.add(InputLayer((7*7*512,)))\n",
    "\n",
    "model.add(Dense(1024,activation='relu'))\n",
    "model.add(Dropout(0.3))\n",
    "model.add(Dense(units=4,activation='linear'))\n",
    "\n",
    "adam = Adam(lr=1e-3)\n",
    "\n",
    "model.compile(loss='mean_squared_error',optimizer=adam)"
   ]
  },
  {
   "cell_type": "code",
   "execution_count": 59,
   "metadata": {},
   "outputs": [],
   "source": [
    "estop = EarlyStopping(patience=10,mode='min',min_delta=0.001,monitor='val_loss')"
   ]
  },
  {
   "cell_type": "code",
   "execution_count": 66,
   "metadata": {},
   "outputs": [
    {
     "name": "stdout",
     "output_type": "stream",
     "text": [
      "Train on 4923 samples, validate on 2110 samples\n",
      "Epoch 1/50\n",
      "4923/4923 [==============================] - 6s 1ms/step - loss: 7.4890 - val_loss: 5.6228\n",
      "Epoch 2/50\n",
      "4923/4923 [==============================] - 6s 1ms/step - loss: 7.4183 - val_loss: 5.6499\n",
      "Epoch 3/50\n",
      "4923/4923 [==============================] - 8s 2ms/step - loss: 7.3577 - val_loss: 5.5819\n",
      "Epoch 4/50\n",
      "4923/4923 [==============================] - 7s 1ms/step - loss: 7.2499 - val_loss: 5.5380\n",
      "Epoch 5/50\n",
      "4923/4923 [==============================] - 7s 1ms/step - loss: 7.2113 - val_loss: 5.5228\n",
      "Epoch 6/50\n",
      "4923/4923 [==============================] - 9s 2ms/step - loss: 7.1212 - val_loss: 5.5055\n",
      "Epoch 7/50\n",
      "4923/4923 [==============================] - 8s 2ms/step - loss: 7.0708 - val_loss: 5.4701\n",
      "Epoch 8/50\n",
      "4923/4923 [==============================] - 7s 1ms/step - loss: 7.1684 - val_loss: 5.4746\n",
      "Epoch 9/50\n",
      "4923/4923 [==============================] - 7s 1ms/step - loss: 7.0098 - val_loss: 5.4344\n",
      "Epoch 10/50\n",
      "4923/4923 [==============================] - 7s 1ms/step - loss: 6.9339 - val_loss: 5.4644\n",
      "Epoch 11/50\n",
      "4923/4923 [==============================] - 7s 1ms/step - loss: 7.0267 - val_loss: 5.3941\n",
      "Epoch 12/50\n",
      "4923/4923 [==============================] - 8s 2ms/step - loss: 6.9113 - val_loss: 5.3805\n",
      "Epoch 13/50\n",
      "4923/4923 [==============================] - 6s 1ms/step - loss: 6.7809 - val_loss: 5.3543\n",
      "Epoch 14/50\n",
      "4923/4923 [==============================] - 5s 1ms/step - loss: 6.7795 - val_loss: 5.3561\n",
      "Epoch 15/50\n",
      "4923/4923 [==============================] - 6s 1ms/step - loss: 6.7509 - val_loss: 5.3629\n",
      "Epoch 16/50\n",
      "4923/4923 [==============================] - 6s 1ms/step - loss: 6.6078 - val_loss: 5.3051\n",
      "Epoch 17/50\n",
      "4923/4923 [==============================] - 6s 1ms/step - loss: 6.6719 - val_loss: 5.2851\n",
      "Epoch 18/50\n",
      "4923/4923 [==============================] - 6s 1ms/step - loss: 6.5649 - val_loss: 5.2600\n",
      "Epoch 19/50\n",
      "4923/4923 [==============================] - 6s 1ms/step - loss: 6.5105 - val_loss: 5.2756\n",
      "Epoch 20/50\n",
      "4923/4923 [==============================] - 6s 1ms/step - loss: 6.4612 - val_loss: 5.2377\n",
      "Epoch 21/50\n",
      "4923/4923 [==============================] - 6s 1ms/step - loss: 6.3535 - val_loss: 5.2425\n",
      "Epoch 22/50\n",
      "4923/4923 [==============================] - 6s 1ms/step - loss: 6.3452 - val_loss: 5.2306\n",
      "Epoch 23/50\n",
      "4923/4923 [==============================] - 6s 1ms/step - loss: 6.4759 - val_loss: 5.2310\n",
      "Epoch 24/50\n",
      "4923/4923 [==============================] - 6s 1ms/step - loss: 6.2984 - val_loss: 5.1937\n",
      "Epoch 25/50\n",
      "4923/4923 [==============================] - 6s 1ms/step - loss: 6.2868 - val_loss: 5.1780\n",
      "Epoch 26/50\n",
      "4923/4923 [==============================] - 6s 1ms/step - loss: 6.2160 - val_loss: 5.1693\n",
      "Epoch 27/50\n",
      "4923/4923 [==============================] - 6s 1ms/step - loss: 6.1125 - val_loss: 5.1390\n",
      "Epoch 28/50\n",
      "4923/4923 [==============================] - 6s 1ms/step - loss: 6.0320 - val_loss: 5.1363\n",
      "Epoch 29/50\n",
      "4923/4923 [==============================] - 6s 1ms/step - loss: 6.2148 - val_loss: 5.1180\n",
      "Epoch 30/50\n",
      "4923/4923 [==============================] - 6s 1ms/step - loss: 6.0501 - val_loss: 5.1149\n",
      "Epoch 31/50\n",
      "4923/4923 [==============================] - 6s 1ms/step - loss: 6.0710 - val_loss: 5.1195\n",
      "Epoch 32/50\n",
      "4923/4923 [==============================] - 6s 1ms/step - loss: 5.9141 - val_loss: 5.1117\n",
      "Epoch 33/50\n",
      "4923/4923 [==============================] - 6s 1ms/step - loss: 5.9417 - val_loss: 5.0909\n",
      "Epoch 34/50\n",
      "4923/4923 [==============================] - 6s 1ms/step - loss: 5.8546 - val_loss: 5.0874\n",
      "Epoch 35/50\n",
      "4923/4923 [==============================] - 6s 1ms/step - loss: 5.8744 - val_loss: 5.0722\n",
      "Epoch 36/50\n",
      "4923/4923 [==============================] - 6s 1ms/step - loss: 5.8283 - val_loss: 5.0505\n",
      "Epoch 37/50\n",
      "4923/4923 [==============================] - 6s 1ms/step - loss: 5.8805 - val_loss: 5.0585\n",
      "Epoch 38/50\n",
      "4923/4923 [==============================] - 6s 1ms/step - loss: 5.7364 - val_loss: 5.0612\n",
      "Epoch 39/50\n",
      "4923/4923 [==============================] - 7s 1ms/step - loss: 5.7250 - val_loss: 5.0264\n",
      "Epoch 40/50\n",
      "4923/4923 [==============================] - 6s 1ms/step - loss: 5.7637 - val_loss: 5.1073\n",
      "Epoch 41/50\n",
      "4923/4923 [==============================] - 7s 1ms/step - loss: 5.8475 - val_loss: 4.9909\n",
      "Epoch 42/50\n",
      "4923/4923 [==============================] - 6s 1ms/step - loss: 5.7839 - val_loss: 5.0063\n",
      "Epoch 43/50\n",
      "4923/4923 [==============================] - 6s 1ms/step - loss: 5.6906 - val_loss: 4.9935\n",
      "Epoch 44/50\n",
      "4923/4923 [==============================] - 6s 1ms/step - loss: 5.6324 - val_loss: 4.9647\n",
      "Epoch 45/50\n",
      "4923/4923 [==============================] - 6s 1ms/step - loss: 5.4629 - val_loss: 4.9616\n",
      "Epoch 46/50\n",
      "4923/4923 [==============================] - 6s 1ms/step - loss: 5.5218 - val_loss: 4.9456\n",
      "Epoch 47/50\n",
      "4923/4923 [==============================] - 6s 1ms/step - loss: 5.5075 - val_loss: 4.9462\n",
      "Epoch 48/50\n",
      "4923/4923 [==============================] - 6s 1ms/step - loss: 5.4169 - val_loss: 4.9360\n",
      "Epoch 49/50\n",
      "4923/4923 [==============================] - 6s 1ms/step - loss: 5.4954 - val_loss: 4.9560\n",
      "Epoch 50/50\n",
      "4923/4923 [==============================] - 6s 1ms/step - loss: 5.3728 - val_loss: 4.9306\n"
     ]
    }
   ],
   "source": [
    "history  = model.fit(feature_train,y_train,epochs=50,batch_size=512,validation_data=(feature_valid,y_valid),callbacks=[estop])\n"
   ]
  },
  {
   "cell_type": "code",
   "execution_count": 70,
   "metadata": {},
   "outputs": [
    {
     "name": "stdout",
     "output_type": "stream",
     "text": [
      "dict_keys(['val_loss', 'loss'])\n"
     ]
    },
    {
     "data": {
      "image/png": "[encoded data removed]",
      "text/plain": [
       "<Figure size 432x288 with 1 Axes>"
      ]
     },
     "metadata": {
      "needs_background": "light"
     },
     "output_type": "display_data"
    }
   ],
   "source": [
    "print(history.history.keys())\n",
    "# summarize history for loss\n",
    "plt.plot(history.history['loss'])\n",
    "plt.plot(history.history['val_loss'])\n",
    "plt.title('model loss')\n",
    "plt.ylabel('loss')\n",
    "plt.xlabel('epoch')\n",
    "plt.legend(['train', 'test'], loc='upper left')\n",
    "plt.show()"
   ]
  },
  {
   "cell_type": "code",
   "execution_count": 67,
   "metadata": {},
   "outputs": [],
   "source": [
    "#get Predictions\n",
    "predictions = model.predict(feature_valid)\n",
    "\n"
   ]
  },
  {
   "cell_type": "code",
   "execution_count": null,
   "metadata": {},
   "outputs": [],
   "source": []
  },
  {
   "cell_type": "code",
   "execution_count": 180,
   "metadata": {},
   "outputs": [
    {
     "data": {
      "text/plain": [
       "(2110, 4)"
      ]
     },
     "execution_count": 180,
     "metadata": {},
     "output_type": "execute_result"
    }
   ],
   "source": [
    "predictions.shape"
   ]
  },
  {
   "cell_type": "code",
   "execution_count": 179,
   "metadata": {},
   "outputs": [
    {
     "data": {
      "text/plain": [
       "array([[65.18928 , 38.422493, 28.862242, 36.338604],\n",
       "       [63.741684, 35.969826, 29.419973, 36.990486],\n",
       "       [67.15737 , 38.02894 , 30.239246, 38.882835],\n",
       "       ...,\n",
       "       [66.784256, 38.176212, 29.367008, 37.110806],\n",
       "       [65.75401 , 34.88587 , 29.825739, 39.641113],\n",
       "       [63.82498 , 36.569122, 31.007456, 37.182087]], dtype=float32)"
      ]
     },
     "execution_count": 179,
     "metadata": {},
     "output_type": "execute_result"
    }
   ],
   "source": [
    "predictions"
   ]
  },
  {
   "cell_type": "code",
   "execution_count": 71,
   "metadata": {},
   "outputs": [],
   "source": [
    "# extract validartion \n",
    "_,valid_image,_ ,_ = train_test_split(data.image_name,y,test_size=0.3,random_state=42)\n"
   ]
  },
  {
   "cell_type": "code",
   "execution_count": 160,
   "metadata": {},
   "outputs": [
    {
     "name": "stdout",
     "output_type": "stream",
     "text": [
      "6800.jpg\n"
     ]
    },
    {
     "data": {
      "image/png": "[encoded data removed]",
      "text/plain": [
       "<Figure size 432x288 with 1 Axes>"
      ]
     },
     "metadata": {
      "needs_background": "light"
     },
     "output_type": "display_data"
    }
   ],
   "source": [
    "image_name = rng.choice(valid_image)\n",
    "print(image_name)\n",
    "img = plt.imread(imagePath + image_name)\n",
    "# Plot the empty figure\n",
    "fig = plt.figure()\n",
    "# Plot the image\n",
    "plt.imshow(img)\n",
    "\n",
    "print()"
   ]
  },
  {
   "cell_type": "code",
   "execution_count": 177,
   "metadata": {},
   "outputs": [
    {
     "name": "stdout",
     "output_type": "stream",
     "text": [
      "746.jpg\n",
      "The shape of the is (96, 96, 3)\n"
     ]
    },
    {
     "data": {
      "image/png": "[encoded data removed]",
      "text/plain": [
       "<Figure size 432x288 with 1 Axes>"
      ]
     },
     "metadata": {
      "needs_background": "light"
     },
     "output_type": "display_data"
    }
   ],
   "source": [
    "#Plot the Predicted values vs the actual values\n",
    "\n",
    "# Read random data and plot it's image\n",
    "image_name = rng.choice(valid_image)\n",
    "#image_name = valid_image[idx]\n",
    "print(image_name)\n",
    "\n",
    "# Get the actual Values\n",
    "left_x = data.loc[data.image_name==image_name,'left_eye_center_x']\n",
    "left_y = data.loc[data.image_name==image_name,'left_eye_center_y']\n",
    "right_x = data.loc[data.image_name==image_name,'right_eye_center_x']\n",
    "right_y = data.loc[data.image_name==image_name,'right_eye_center_y']\n",
    "\n",
    "pred_left_x,pred_left_y, pred_right_x,pred_right_y = predictions[idx]\n",
    "\n",
    "\n",
    "# read the Image\n",
    "img = plt.imread(imagePath + image_name)\n",
    "# Plot the empty figure\n",
    "fig = plt.figure()\n",
    "# Plot the image\n",
    "plt.imshow(img)\n",
    "\n",
    "# Plot Target\n",
    "plt.scatter(left_x,left_y,marker='o',c='r')\n",
    "plt.scatter(right_x,right_y,marker='o',c='r')\n",
    "\n",
    "# Plot the predictions\n",
    "\n",
    "\n",
    "plt.scatter(pred_left_x,pred_left_y,marker='x',c='w')\n",
    "plt.scatter(pred_right_x,pred_right_y,marker='x',c='w')\n",
    "\n",
    "\n",
    "# Print the shape of image\n",
    "print('The shape of the is',img.shape)\n",
    "plt.show()\n",
    "\n"
   ]
  },
  {
   "cell_type": "code",
   "execution_count": null,
   "metadata": {},
   "outputs": [],
   "source": []
  },
  {
   "cell_type": "code",
   "execution_count": null,
   "metadata": {},
   "outputs": [],
   "source": [
    "sorted([(x, sys.getsizeof(globals().get(x))) for x in dir() if not x.startswith('_') and x not in sys.modules and x not in ipython_vars], key=lambda x: x[1], reverse=True)"
   ]
  }
 ],
 "metadata": {
  "kernelspec": {
   "display_name": "Python 3.6",
   "language": "python",
   "name": "python36"
  },
  "language_info": {
   "codemirror_mode": {
    "name": "ipython",
    "version": 3
   },
   "file_extension": ".py",
   "mimetype": "text/x-python",
   "name": "python",
   "nbconvert_exporter": "python",
   "pygments_lexer": "ipython3",
   "version": "3.6.7"
  }
 },
 "nbformat": 4,
 "nbformat_minor": 2
}
