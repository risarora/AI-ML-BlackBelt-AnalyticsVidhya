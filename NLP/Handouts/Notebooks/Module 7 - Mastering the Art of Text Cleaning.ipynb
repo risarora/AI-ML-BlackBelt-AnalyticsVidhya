{
 "cells": [
  {
   "cell_type": "code",
   "execution_count": 1,
   "metadata": {
    "collapsed": true
   },
   "outputs": [],
   "source": [
    "text = \"\"\"It is raining heavily today and I am not sure if I will be able to travel. \n",
    "Can we postpone our meeting. Hope it is fine with you :) I am sending the new meeting invite on \n",
    "<a href=\"www.example.com\"> this link </a> \"\"\""
   ]
  },
  {
   "cell_type": "code",
   "execution_count": 2,
   "metadata": {},
   "outputs": [
    {
     "data": {
      "text/plain": [
       "'it is raining heavily today and i am not sure if i will be able to travel. \\ncan we postpone our meeting. hope it is fine with you :) i am sending the new meeting invite on \\n<a href=\"www.example.com\"> this link </a> '"
      ]
     },
     "execution_count": 2,
     "metadata": {},
     "output_type": "execute_result"
    }
   ],
   "source": [
    "text = text.lower()\n",
    "text"
   ]
  },
  {
   "cell_type": "code",
   "execution_count": 3,
   "metadata": {},
   "outputs": [
    {
     "data": {
      "text/plain": [
       "'it is raining heavily today and i am not sure if i will be able to travel. \\ncan we postpone our meeting. hope it is fine with you :) i am sending the new meeting invite on \\n this link  '"
      ]
     },
     "execution_count": 3,
     "metadata": {},
     "output_type": "execute_result"
    }
   ],
   "source": [
    "import re \n",
    "text = re.sub(\"<[^<]+?>\", \"\", text)\n",
    "text"
   ]
  },
  {
   "cell_type": "code",
   "execution_count": 4,
   "metadata": {},
   "outputs": [
    {
     "data": {
      "text/plain": [
       "'it is raining heavily today and i am not sure if i will be able to travel \\ncan we postpone our meeting hope it is fine with you  i am sending the new meeting invite on \\n this link  '"
      ]
     },
     "execution_count": 4,
     "metadata": {},
     "output_type": "execute_result"
    }
   ],
   "source": [
    "import string \n",
    "punc = string.punctuation\n",
    "text = \"\".join(char for char in text if char not in punc)\n",
    "text"
   ]
  },
  {
   "cell_type": "code",
   "execution_count": 5,
   "metadata": {},
   "outputs": [
    {
     "data": {
      "text/plain": [
       "'it is raining heavily today and i am not sure if i will be able to travel  can we postpone our meeting hope it is fine with you  i am sending the new meeting invite on   this link  '"
      ]
     },
     "execution_count": 5,
     "metadata": {},
     "output_type": "execute_result"
    }
   ],
   "source": [
    "text = text.replace(\"\\n\",\" \")\n",
    "text"
   ]
  },
  {
   "cell_type": "code",
   "execution_count": 6,
   "metadata": {},
   "outputs": [
    {
     "data": {
      "text/plain": [
       "' raining heavily today sure able travel postpone meeting hope fine sending new meeting invite link'"
      ]
     },
     "execution_count": 6,
     "metadata": {},
     "output_type": "execute_result"
    }
   ],
   "source": [
    "## stopwords \n",
    "\n",
    "from nltk.corpus import stopwords \n",
    "stop = stopwords.words('english')\n",
    "\n",
    "text_cleaned = \"\"\n",
    "for word in text.split():\n",
    "    if word in stop:\n",
    "        pass\n",
    "    else:\n",
    "        text_cleaned += \" \"\n",
    "        text_cleaned += word\n",
    "\n",
    "text_cleaned"
   ]
  },
  {
   "cell_type": "code",
   "execution_count": 7,
   "metadata": {},
   "outputs": [
    {
     "data": {
      "text/plain": [
       "' rain heavily today sure able travel postpone meet hope fine send new meet invite link'"
      ]
     },
     "execution_count": 7,
     "metadata": {},
     "output_type": "execute_result"
    }
   ],
   "source": [
    "from nltk.stem import WordNetLemmatizer \n",
    "lemm = WordNetLemmatizer() \n",
    "\n",
    "text_cleaned1 = \"\"\n",
    "for word in text_cleaned.split():\n",
    "    word = lemm.lemmatize(word, pos=\"v\")\n",
    "    text_cleaned1 += \" \"\n",
    "    text_cleaned1 += word\n",
    "text_cleaned1"
   ]
  },
  {
   "cell_type": "code",
   "execution_count": 8,
   "metadata": {},
   "outputs": [
    {
     "data": {
      "text/plain": [
       "'rain heavily today sure able travel postpone meet hope fine send new meet invite link'"
      ]
     },
     "execution_count": 8,
     "metadata": {},
     "output_type": "execute_result"
    }
   ],
   "source": [
    "text = text_cleaned1.strip()\n",
    "text"
   ]
  }
 ],
 "metadata": {
  "kernelspec": {
   "display_name": "Python 3",
   "language": "python",
   "name": "python3"
  },
  "language_info": {
   "codemirror_mode": {
    "name": "ipython",
    "version": 3
   },
   "file_extension": ".py",
   "mimetype": "text/x-python",
   "name": "python",
   "nbconvert_exporter": "python",
   "pygments_lexer": "ipython3",
   "version": "3.6.3"
  }
 },
 "nbformat": 4,
 "nbformat_minor": 2
}
