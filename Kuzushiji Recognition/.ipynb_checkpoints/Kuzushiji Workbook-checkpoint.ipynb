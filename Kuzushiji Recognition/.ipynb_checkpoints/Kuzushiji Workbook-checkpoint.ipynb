{
 "cells": [
  {
   "cell_type": "code",
   "execution_count": 1,
   "metadata": {},
   "outputs": [],
   "source": [
    "%matplotlib inline\n",
    "\n",
    "import numpy as np\n",
    "import pandas as pd\n",
    "\n",
    "import matplotlib.pyplot as plt\n",
    "import matplotlib.patches as patches\n",
    "\n",
    "# To stop potential randomness\n",
    "seed = 42\n",
    "rng = np.random.RandomState(seed)\n",
    "\n",
    "\n"
   ]
  },
  {
   "cell_type": "code",
   "execution_count": 2,
   "metadata": {},
   "outputs": [],
   "source": [
    "data= pd.read_csv('data.csv')"
   ]
  },
  {
   "cell_type": "code",
   "execution_count": 4,
   "metadata": {},
   "outputs": [
    {
     "data": {
      "text/html": [
       "<div>\n",
       "<style scoped>\n",
       "    .dataframe tbody tr th:only-of-type {\n",
       "        vertical-align: middle;\n",
       "    }\n",
       "\n",
       "    .dataframe tbody tr th {\n",
       "        vertical-align: top;\n",
       "    }\n",
       "\n",
       "    .dataframe thead th {\n",
       "        text-align: right;\n",
       "    }\n",
       "</style>\n",
       "<table border=\"1\" class=\"dataframe\">\n",
       "  <thead>\n",
       "    <tr style=\"text-align: right;\">\n",
       "      <th></th>\n",
       "      <th>FILE_NAME</th>\n",
       "      <th>CHARACTER</th>\n",
       "      <th>X_min</th>\n",
       "      <th>y_min</th>\n",
       "      <th>length</th>\n",
       "      <th>height</th>\n",
       "    </tr>\n",
       "  </thead>\n",
       "  <tbody>\n",
       "    <tr>\n",
       "      <th>0</th>\n",
       "      <td>100241706_00006_1</td>\n",
       "      <td>U+3082</td>\n",
       "      <td>1455</td>\n",
       "      <td>3009</td>\n",
       "      <td>65</td>\n",
       "      <td>44</td>\n",
       "    </tr>\n",
       "    <tr>\n",
       "      <th>1</th>\n",
       "      <td>100241706_00006_1</td>\n",
       "      <td>U+516B</td>\n",
       "      <td>1654</td>\n",
       "      <td>1528</td>\n",
       "      <td>141</td>\n",
       "      <td>75</td>\n",
       "    </tr>\n",
       "    <tr>\n",
       "      <th>2</th>\n",
       "      <td>100241706_00006_1</td>\n",
       "      <td>U+309E</td>\n",
       "      <td>1714</td>\n",
       "      <td>1106</td>\n",
       "      <td>80</td>\n",
       "      <td>80</td>\n",
       "    </tr>\n",
       "    <tr>\n",
       "      <th>3</th>\n",
       "      <td>100241706_00006_1</td>\n",
       "      <td>U+306B</td>\n",
       "      <td>403</td>\n",
       "      <td>2050</td>\n",
       "      <td>61</td>\n",
       "      <td>81</td>\n",
       "    </tr>\n",
       "    <tr>\n",
       "      <th>4</th>\n",
       "      <td>100241706_00006_1</td>\n",
       "      <td>U+308B</td>\n",
       "      <td>1692</td>\n",
       "      <td>3291</td>\n",
       "      <td>57</td>\n",
       "      <td>101</td>\n",
       "    </tr>\n",
       "  </tbody>\n",
       "</table>\n",
       "</div>"
      ],
      "text/plain": [
       "           FILE_NAME CHARACTER  X_min  y_min  length  height\n",
       "0  100241706_00006_1    U+3082   1455   3009      65      44\n",
       "1  100241706_00006_1    U+516B   1654   1528     141      75\n",
       "2  100241706_00006_1    U+309E   1714   1106      80      80\n",
       "3  100241706_00006_1    U+306B    403   2050      61      81\n",
       "4  100241706_00006_1    U+308B   1692   3291      57     101"
      ]
     },
     "execution_count": 4,
     "metadata": {},
     "output_type": "execute_result"
    }
   ],
   "source": [
    "data.head()"
   ]
  },
  {
   "cell_type": "code",
   "execution_count": 5,
   "metadata": {},
   "outputs": [],
   "source": [
    "# To stop potential randomness\n",
    "seed = 42\n",
    "rng = np.random.RandomState(seed)\n"
   ]
  },
  {
   "cell_type": "code",
   "execution_count": 6,
   "metadata": {},
   "outputs": [
    {
     "data": {
      "text/plain": [
       "U+3092    5\n",
       "U+5618    5\n",
       "U+306E    3\n",
       "U+306B    2\n",
       "U+304D    2\n",
       "U+3089    2\n",
       "U+3082    2\n",
       "U+308A    2\n",
       "U+3064    2\n",
       "U+308F    1\n",
       "U+540C    1\n",
       "U+767E    1\n",
       "U+9580    1\n",
       "U+309E    1\n",
       "U+6B21    1\n",
       "U+6211    1\n",
       "U+8FD1    1\n",
       "U+3067    1\n",
       "U+5F25    1\n",
       "U+304B    1\n",
       "U+3072    1\n",
       "U+8FFD    1\n",
       "U+4F55    1\n",
       "U+306C    1\n",
       "U+516B    1\n",
       "U+85AE    1\n",
       "U+7136    1\n",
       "U+306F    1\n",
       "U+3053    1\n",
       "U+3075    1\n",
       "U+66F8    1\n",
       "U+6E80    1\n",
       "U+4EA4    1\n",
       "U+306A    1\n",
       "U+6797    1\n",
       "U+305A    1\n",
       "U+3042    1\n",
       "U+3005    1\n",
       "U+4E2D    1\n",
       "U+3079    1\n",
       "U+5C41    1\n",
       "U+308C    1\n",
       "U+90CE    1\n",
       "U+67D0    1\n",
       "U+304F    1\n",
       "U+5DF1    1\n",
       "U+90E8    1\n",
       "U+6893    1\n",
       "U+6D45    1\n",
       "U+308B    1\n",
       "U+92F3    1\n",
       "U+3057    1\n",
       "U+3051    1\n",
       "U+3058    1\n",
       "U+51E6    1\n",
       "U+3081    1\n",
       "Name: CHARACTER, dtype: int64"
      ]
     },
     "execution_count": 6,
     "metadata": {},
     "output_type": "execute_result"
    }
   ],
   "source": [
    "data.CHARACTER.value_counts()"
   ]
  },
  {
   "cell_type": "code",
   "execution_count": null,
   "metadata": {},
   "outputs": [],
   "source": []
  },
  {
   "cell_type": "code",
   "execution_count": null,
   "metadata": {},
   "outputs": [],
   "source": []
  },
  {
   "cell_type": "code",
   "execution_count": null,
   "metadata": {},
   "outputs": [],
   "source": []
  },
  {
   "cell_type": "code",
   "execution_count": null,
   "metadata": {},
   "outputs": [],
   "source": []
  },
  {
   "cell_type": "code",
   "execution_count": null,
   "metadata": {},
   "outputs": [],
   "source": []
  },
  {
   "cell_type": "code",
   "execution_count": null,
   "metadata": {},
   "outputs": [],
   "source": []
  },
  {
   "cell_type": "code",
   "execution_count": null,
   "metadata": {},
   "outputs": [],
   "source": []
  },
  {
   "cell_type": "code",
   "execution_count": null,
   "metadata": {},
   "outputs": [],
   "source": []
  }
 ],
 "metadata": {
  "kernelspec": {
   "display_name": "Python 3.6",
   "language": "python",
   "name": "python36"
  },
  "language_info": {
   "codemirror_mode": {
    "name": "ipython",
    "version": 3
   },
   "file_extension": ".py",
   "mimetype": "text/x-python",
   "name": "python",
   "nbconvert_exporter": "python",
   "pygments_lexer": "ipython3",
   "version": "3.6.7"
  }
 },
 "nbformat": 4,
 "nbformat_minor": 2
}
