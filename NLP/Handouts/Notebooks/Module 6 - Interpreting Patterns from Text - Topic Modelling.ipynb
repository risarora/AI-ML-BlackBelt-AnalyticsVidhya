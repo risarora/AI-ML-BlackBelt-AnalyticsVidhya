{
 "cells": [
  {
   "cell_type": "code",
   "execution_count": 1,
   "metadata": {
    "collapsed": true
   },
   "outputs": [],
   "source": [
    "from sklearn.decomposition import LatentDirichletAllocation \n",
    "from sklearn.feature_extraction.text import CountVectorizer \n",
    "import numpy as np \n",
    "\n",
    "cvectorizer = CountVectorizer()"
   ]
  },
  {
   "cell_type": "code",
   "execution_count": 2,
   "metadata": {
    "collapsed": true
   },
   "outputs": [],
   "source": [
    "corpus = [\"i love cooking\", \"I have prepared a cake today\", \"he is going to a new place\", \"he will learn cooking there\"]"
   ]
  },
  {
   "cell_type": "code",
   "execution_count": 3,
   "metadata": {
    "collapsed": true
   },
   "outputs": [],
   "source": [
    "cvz = cvectorizer.fit_transform(corpus)"
   ]
  },
  {
   "cell_type": "code",
   "execution_count": 4,
   "metadata": {},
   "outputs": [
    {
     "data": {
      "text/plain": [
       "<4x15 sparse matrix of type '<class 'numpy.int64'>'\n",
       "\twith 17 stored elements in Compressed Sparse Row format>"
      ]
     },
     "execution_count": 4,
     "metadata": {},
     "output_type": "execute_result"
    }
   ],
   "source": [
    "cvz"
   ]
  },
  {
   "cell_type": "code",
   "execution_count": 5,
   "metadata": {},
   "outputs": [
    {
     "data": {
      "text/plain": [
       "['cake',\n",
       " 'cooking',\n",
       " 'going',\n",
       " 'have',\n",
       " 'he',\n",
       " 'is',\n",
       " 'learn',\n",
       " 'love',\n",
       " 'new',\n",
       " 'place',\n",
       " 'prepared',\n",
       " 'there',\n",
       " 'to',\n",
       " 'today',\n",
       " 'will']"
      ]
     },
     "execution_count": 5,
     "metadata": {},
     "output_type": "execute_result"
    }
   ],
   "source": [
    "vocab = cvectorizer.get_feature_names()\n",
    "vocab"
   ]
  },
  {
   "cell_type": "code",
   "execution_count": 6,
   "metadata": {},
   "outputs": [
    {
     "name": "stderr",
     "output_type": "stream",
     "text": [
      "/home/pulkit/miniconda3/envs/av/lib/python3.6/site-packages/sklearn/decomposition/online_lda.py:536: DeprecationWarning: The default value for 'learning_method' will be changed from 'online' to 'batch' in the release 0.20. This warning was introduced in 0.18.\n",
      "  DeprecationWarning)\n"
     ]
    }
   ],
   "source": [
    "lda_model = LatentDirichletAllocation(n_components = 3, max_iter = 20, random_state = 20)\n",
    "X_topics = lda_model.fit_transform(cvz)\n",
    "topic_words = lda_model.components_"
   ]
  },
  {
   "cell_type": "code",
   "execution_count": 7,
   "metadata": {},
   "outputs": [
    {
     "name": "stdout",
     "output_type": "stream",
     "text": [
      "Topic 1 ['cooking' 'love' 'today']\n",
      "Topic 2 ['cake' 'prepared' 'today']\n",
      "Topic 3 ['he' 'to' 'going']\n"
     ]
    }
   ],
   "source": [
    "n_top_words = 4 \n",
    "\n",
    "for i, topic_dist in enumerate(topic_words):\n",
    "    sorted_topic_dist = np.argsort(topic_dist)\n",
    "    topic_words = np.array(vocab)[sorted_topic_dist]\n",
    "    topic_words = topic_words[:-n_top_words:-1]\n",
    "    print (\"Topic\", str(i+1), topic_words)\n",
    "    \n"
   ]
  },
  {
   "cell_type": "code",
   "execution_count": 8,
   "metadata": {},
   "outputs": [
    {
     "name": "stdout",
     "output_type": "stream",
     "text": [
      "Document 1  -- Topic: 0\n",
      "Document 2  -- Topic: 1\n",
      "Document 3  -- Topic: 2\n",
      "Document 4  -- Topic: 2\n"
     ]
    }
   ],
   "source": [
    "doc_topic = lda_model.transform(cvz)\n",
    "for n in range(doc_topic.shape[0]):\n",
    "    topic_doc = doc_topic[n].argmax()\n",
    "    print (\"Document\", n+1, \" -- Topic:\" ,topic_doc)\n"
   ]
  }
 ],
 "metadata": {
  "kernelspec": {
   "display_name": "Python 3",
   "language": "python",
   "name": "python3"
  },
  "language_info": {
   "codemirror_mode": {
    "name": "ipython",
    "version": 3
   },
   "file_extension": ".py",
   "mimetype": "text/x-python",
   "name": "python",
   "nbconvert_exporter": "python",
   "pygments_lexer": "ipython3",
   "version": "3.6.3"
  }
 },
 "nbformat": 4,
 "nbformat_minor": 2
}
