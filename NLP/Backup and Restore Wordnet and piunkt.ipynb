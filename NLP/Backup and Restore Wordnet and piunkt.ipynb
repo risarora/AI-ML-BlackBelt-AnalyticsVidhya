{
 "cells": [
  {
   "cell_type": "code",
   "execution_count": 42,
   "metadata": {},
   "outputs": [
    {
     "name": "stdout",
     "output_type": "stream",
     "text": [
      "total 10536\n",
      "drwxr-sr-x 4 jovyan users     4096 Jul  8 18:55 ..\n",
      "-rw-r--r-- 1 jovyan users 10775600 Jul  8 19:07 wordnet.zip\n",
      "drwxr-sr-x 3 jovyan users     4096 Jul  8 19:07 .\n",
      "drwxr-sr-x 2 jovyan users     4096 Jul  8 19:07 wordnet\n",
      "35M\t/home/jovyan/nltk_data/corpora/wordnet\n",
      "11M\t/home/jovyan/nltk_data/corpora/wordnet.zip\n"
     ]
    }
   ],
   "source": [
    "! ls -ltra /home/jovyan/nltk_data/corpora\n",
    "! du -hs /home/jovyan/nltk_data/corpora/*"
   ]
  },
  {
   "cell_type": "code",
   "execution_count": 43,
   "metadata": {},
   "outputs": [],
   "source": [
    "cp /home/jovyan/nltk_data/corpora/wordnet.zip /home/jovyan/work/AI-ML-BlackBelt-AnalyticsVidhya/NLP/"
   ]
  },
  {
   "cell_type": "code",
   "execution_count": null,
   "metadata": {},
   "outputs": [],
   "source": []
  },
  {
   "cell_type": "code",
   "execution_count": null,
   "metadata": {},
   "outputs": [],
   "source": [
    "! mkdir -p /home/jovyan/nltk_data/corpora/\n",
    "\n",
    "!cp /home/jovyan/work/AI-ML-BlackBelt-AnalyticsVidhya/NLP/wordnet.zip /home/jovyan/nltk_data/corpora\n",
    "! unzip /home/jovyan/nltk_data/tokenizers/wordnet.zip "
   ]
  },
  {
   "cell_type": "code",
   "execution_count": 29,
   "metadata": {},
   "outputs": [
    {
     "name": "stdout",
     "output_type": "stream",
     "text": [
      "total 13404\n",
      "-rw-r--r-- 1 jovyan users 13707633 Jul  8 18:47 punkt.zip\n",
      "drwxr-sr-x 3 jovyan users     4096 Jul  8 18:47 .\n",
      "drwxr-sr-x 3 jovyan users     4096 Jul  8 18:47 punkt\n",
      "drwxr-sr-x 4 jovyan users     4096 Jul  8 18:55 ..\n",
      "36M\t/home/jovyan/nltk_data/tokenizers/punkt\n",
      "14M\t/home/jovyan/nltk_data/tokenizers/punkt.zip\n"
     ]
    }
   ],
   "source": [
    "! ls -ltra /home/jovyan/nltk_data/tokenizers\n",
    "! du -hs /home/jovyan/nltk_data/tokenizers/*"
   ]
  },
  {
   "cell_type": "code",
   "execution_count": null,
   "metadata": {},
   "outputs": [],
   "source": []
  },
  {
   "cell_type": "code",
   "execution_count": 28,
   "metadata": {},
   "outputs": [],
   "source": [
    "cp /home/jovyan/nltk_data/tokenizers/punkt.zip /home/jovyan/work/AI-ML-BlackBelt-AnalyticsVidhya/NLP/"
   ]
  },
  {
   "cell_type": "code",
   "execution_count": null,
   "metadata": {},
   "outputs": [],
   "source": [
    "Restore the punkt"
   ]
  },
  {
   "cell_type": "code",
   "execution_count": null,
   "metadata": {},
   "outputs": [],
   "source": [
    "! mkdir -p /home/jovyan/nltk_data/tokenizers/\n",
    "\n",
    "!cp /home/jovyan/work/AI-ML-BlackBelt-AnalyticsVidhya/NLP/punkt.zip /home/jovyan/nltk_data/tokenizers\n",
    "! unzip /home/jovyan/nltk_data/tokenizers/punkt.zip "
   ]
  }
 ],
 "metadata": {
  "kernelspec": {
   "display_name": "Python 3",
   "language": "python",
   "name": "python3"
  },
  "language_info": {
   "codemirror_mode": {
    "name": "ipython",
    "version": 3
   },
   "file_extension": ".py",
   "mimetype": "text/x-python",
   "name": "python",
   "nbconvert_exporter": "python",
   "pygments_lexer": "ipython3",
   "version": "3.6.7"
  }
 },
 "nbformat": 4,
 "nbformat_minor": 2
}
